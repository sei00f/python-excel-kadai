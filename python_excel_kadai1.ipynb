{
  "nbformat": 4,
  "nbformat_minor": 0,
  "metadata": {
    "colab": {
      "provenance": [],
      "authorship_tag": "ABX9TyORWaR0ZFUiNHb8R7WifOeM",
      "include_colab_link": true
    },
    "kernelspec": {
      "name": "python3",
      "display_name": "Python 3"
    },
    "language_info": {
      "name": "python"
    }
  },
  "cells": [
    {
      "cell_type": "markdown",
      "metadata": {
        "id": "view-in-github",
        "colab_type": "text"
      },
      "source": [
        "<a href=\"https://colab.research.google.com/github/sei00f/python-excel-kadai/blob/main/python_excel_kadai1.ipynb\" target=\"_parent\"><img src=\"https://colab.research.google.com/assets/colab-badge.svg\" alt=\"Open In Colab\"/></a>"
      ]
    },
    {
      "cell_type": "code",
      "execution_count": 52,
      "metadata": {
        "id": "VIdIb3c_1Wic"
      },
      "outputs": [],
      "source": [
        "import openpyxl\n",
        "from datetime import datetime\n",
        "\n",
        "# 新規ワークブックを作成\n",
        "wb = openpyxl.Workbook()\n",
        "ws = wb.active\n",
        "# 現在の日付（年月日）を取得して、変数todayに代入\n",
        "today = datetime.today()\n",
        "\n",
        "# セルに固定データを入力\n",
        "ws['B2'] = '請求書'\n",
        "ws['F2'] = 'No.'\n",
        "ws['G2'] = '0001'\n",
        "ws['F3'] = '日付'\n",
        "ws['G3'] = today.strftime('%Y/%m/%d')\n",
        "ws['B4'] = '株式会社ABC'\n",
        "ws['B5'] = '〒101-0022 東京都千代田区神田練塀町300'\n",
        "ws['B6'] = 'TEL:03-1234-5678 FAX:03-1234-5678'\n",
        "ws['B7'] = '担当者名:鈴木一郎 様'\n",
        "\n",
        "# 表のデータを書き込む\n",
        "data = [\n",
        "    ['商品名', '数量', '単価', '金額'],\n",
        "    ['商品A', 2, 10000, 20000],\n",
        "    ['商品B', 1, 15000, 15000],\n",
        "]\n",
        "\n",
        "# 開始位置の調整\n",
        "start_row = ws.max_row + 3\n",
        "start_col = 2\n",
        "\n",
        "# for文でdataの各行をワークシートに追加する\n",
        "for i, row in enumerate(data):\n",
        "    for j, value in enumerate(row):\n",
        "        ws.cell(row=start_row + i, column=start_col +j, value=value)\n",
        "\n",
        "# 現時点での最終行を取得\n",
        "last_row = ws.max_row\n",
        "\n",
        "# 金額を合計する\n",
        "ws.cell(row=last_row + 1, column=5).value = '=SUM(E11:E{})'.format(last_row)      # 'E12'\n",
        "\n",
        "#1行空ける# 現時点での最終行を取得\n",
        "last_row = ws.max_row\n",
        "start_row = last_row + 2\n",
        "\n",
        "# 小計\n",
        "ws.cell(row=start_row, column=2).value = '小計'\n",
        "ws.cell(row=start_row, column=5).value = '=E{}'.format(last_row)        # 'E13'\n",
        "\n",
        "# 消費税\n",
        "ws.cell(row=start_row + 1, column=2).value = '消費税'\n",
        "ws.cell(row=start_row + 1, column=5).value = '=E{} * 0.1'.format(last_row)\n",
        "\n",
        "# 合計\n",
        "ws.cell(row=start_row + 2, column=2).value = '合計'\n",
        "ws.cell(row=start_row + 2, column=5).value = '=SUM(E{}:E{})'.format(start_row, start_row + 1)     # E14:E15\n",
        "\n",
        "# 請求書のファイル名を指定\n",
        "filename = f\"請求書_{today.strftime('%Y%m%d')}.xlsx\"\n",
        "# データブックの保存\n",
        "wb.save(filename)"
      ]
    }
  ]
}