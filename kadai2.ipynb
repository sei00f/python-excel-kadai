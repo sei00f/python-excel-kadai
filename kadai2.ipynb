{
  "nbformat": 4,
  "nbformat_minor": 0,
  "metadata": {
    "colab": {
      "provenance": [],
      "authorship_tag": "ABX9TyO7FPeyI5ogfECqjVPIiXxw",
      "include_colab_link": true
    },
    "kernelspec": {
      "name": "python3",
      "display_name": "Python 3"
    },
    "language_info": {
      "name": "python"
    }
  },
  "cells": [
    {
      "cell_type": "markdown",
      "metadata": {
        "id": "view-in-github",
        "colab_type": "text"
      },
      "source": [
        "<a href=\"https://colab.research.google.com/github/sei00f/python-excel-kadai/blob/main/kadai2.ipynb\" target=\"_parent\"><img src=\"https://colab.research.google.com/assets/colab-badge.svg\" alt=\"Open In Colab\"/></a>"
      ]
    },
    {
      "cell_type": "code",
      "execution_count": 1,
      "metadata": {
        "id": "1a5C8chxhnmi"
      },
      "outputs": [],
      "source": [
        "import pandas as pd\n",
        "\n",
        "# 1. 売上データの定義\n",
        "df = pd.DataFrame(data = {\n",
        "    '日付': ['2023-05-17', '2023-05-18', '2023-05-19', '2023-05-20', '2023-05-21'],\n",
        "    '社員名': ['山田', '佐藤', '鈴木', '田中', '高橋'],\n",
        "    '売上': [100, 200, 150, 300, 250],\n",
        "    '部門': ['メーカー', '代理店', 'メーカー', '商社', '代理店']\n",
        "})\n",
        "\n",
        "# 2. 「平均売上」列を作成し、全体の売上の平均を算出\n",
        "mean = df['売上'].mean()\n",
        "# 「業績ランク」列を作成し、以下の条件分岐をして業績ランクを設定します。\n",
        "df['平均売上'] = mean\n",
        "# 関数「performance」を定義して業績ランクの設定をしてください。\n",
        "def performance(rank):\n",
        "    result = '';\n",
        "    if rank >= mean + 50:\n",
        "        result = 'A';\n",
        "    elif rank >= mean:\n",
        "        result = 'B';\n",
        "    else:\n",
        "        result = 'C';\n",
        "    return result\n",
        "\n",
        "# 「業績ランク」列を作成し、関数「performance」を適用して値を設定\n",
        "df['業績ランク'] = df['売上'].apply(performance)\n",
        "\n",
        "\n",
        "# Excelファイルを作成\n",
        "writer = pd.ExcelWriter('業績.xlsx')\n",
        "\n",
        "# DataFlameオブジェクトをExcelファイルに書き込む\n",
        "df.to_excel(writer, sheet_name='Sheet1', index=False)\n",
        "\n",
        "# Excelファイルを閉じる\n",
        "writer.close()"
      ]
    },
    {
      "cell_type": "code",
      "source": [],
      "metadata": {
        "id": "y0d00mWXjLjC"
      },
      "execution_count": null,
      "outputs": []
    }
  ]
}